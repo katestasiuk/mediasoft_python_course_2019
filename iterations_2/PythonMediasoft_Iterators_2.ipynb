{
 "cells": [
  {
   "cell_type": "markdown",
   "metadata": {},
   "source": [
    "FizzBuzz:\n",
    "    ○ Написать программу, которая выводит на экран числа от 1 до 100.\n",
    "    При этом вместо чисел, кратных трем, программа должна выводить слово «Fizz»,\n",
    "     а вместо чисел, кратных пяти — слово «Buzz». Если число кратно и 3, и 5,\n",
    "     то программа должна выводить слово «FizzBuzz»."
   ]
  },
  {
   "cell_type": "code",
   "execution_count": 1,
   "metadata": {},
   "outputs": [
    {
     "name": "stdout",
     "output_type": "stream",
     "text": [
      "[1, 2, 'Fizz', 4, 'Buzz', 'Fizz', 7, 8, 'Fizz', 'Buzz', 11, 'Fizz', 13, 14, 'FizzBuzz', 16, 17, 'Fizz', 19, 'Buzz', 'Fizz', 22, 23, 'Fizz', 'Buzz', 26, 'Fizz', 28, 29, 'FizzBuzz', 31, 32, 'Fizz', 34, 'Buzz', 'Fizz', 37, 38, 'Fizz', 'Buzz', 41, 'Fizz', 43, 44, 'FizzBuzz', 46, 47, 'Fizz', 49, 'Buzz', 'Fizz', 52, 53, 'Fizz', 'Buzz', 56, 'Fizz', 58, 59, 'FizzBuzz', 61, 62, 'Fizz', 64, 'Buzz', 'Fizz', 67, 68, 'Fizz', 'Buzz', 71, 'Fizz', 73, 74, 'FizzBuzz', 76, 77, 'Fizz', 79, 'Buzz', 'Fizz', 82, 83, 'Fizz', 'Buzz', 86, 'Fizz', 88, 89, 'FizzBuzz', 91, 92, 'Fizz', 94, 'Buzz', 'Fizz', 97, 98, 'Fizz', 'Buzz']\n"
     ]
    }
   ],
   "source": [
    "a = range(1, 101)\n",
    "for i in range(len(a)):\n",
    "    if (a[i]%3==0 and a[i]%5==0):\n",
    "       a[i]='FizzBuzz'\n",
    "    elif a[i]%3==0:\n",
    "       a[i]='Fizz'\n",
    "    elif a[i]%5==0:\n",
    "       a[i]='Buzz'\n",
    "    else: \n",
    "        pass\n",
    "\n",
    "print a"
   ]
  },
  {
   "cell_type": "markdown",
   "metadata": {},
   "source": [
    "Ключ-значение :\n",
    "    ○ Написать программу, которая берет словарь и меняет местами ключи и значения.\n",
    "     Попытаться реализовать за наименьшее кол-во строк.\n",
    "        § Пример: {'key1': 'value1', 'key2': 'value2'} -> {'value1': 'key1', 'value2': 'key2'}"
   ]
  },
  {
   "cell_type": "code",
   "execution_count": 2,
   "metadata": {},
   "outputs": [
    {
     "name": "stdout",
     "output_type": "stream",
     "text": [
      "{'vas': 'name', 'sid': 'last_name'}\n"
     ]
    }
   ],
   "source": [
    "man = {'name': 'vas', 'last_name': 'sid'}\n",
    "reverse_man = {v:k for k, v in man.items()}\n",
    "print reverse_man"
   ]
  },
  {
   "cell_type": "markdown",
   "metadata": {},
   "source": [
    "Дубликаты:\n",
    "    ○ Написать программу, которая берет исходный список и формирует новый список.\n",
    "     В новом списке должны содержаться все элементы из исходного, за исключением дублей.\n",
    "        § Пример: [1, 1, 2, 3, 5,  4,5, 5, 6] -> [1, 2, 3, 5, 4, 6]"
   ]
  },
  {
   "cell_type": "code",
   "execution_count": 4,
   "metadata": {},
   "outputs": [
    {
     "name": "stdout",
     "output_type": "stream",
     "text": [
      "[8, 1, 3, 4, 5, 6, 7]\n"
     ]
    }
   ],
   "source": [
    "list1 = [8, 8, 1, 1, 1, 3, 4, 4, 5, 6, 6, 6, 7]\n",
    "list2 = []\n",
    "for i in list1:\n",
    "    if i not in list2:\n",
    "        list2.append(i)\n",
    "    else:\n",
    "        pass\n",
    "print list2"
   ]
  },
  {
   "cell_type": "code",
   "execution_count": null,
   "metadata": {},
   "outputs": [],
   "source": []
  }
 ],
 "metadata": {
  "kernelspec": {
   "display_name": "Python 2",
   "language": "python",
   "name": "python2"
  },
  "language_info": {
   "codemirror_mode": {
    "name": "ipython",
    "version": 2
   },
   "file_extension": ".py",
   "mimetype": "text/x-python",
   "name": "python",
   "nbconvert_exporter": "python",
   "pygments_lexer": "ipython2",
   "version": "2.7.16"
  }
 },
 "nbformat": 4,
 "nbformat_minor": 2
}
